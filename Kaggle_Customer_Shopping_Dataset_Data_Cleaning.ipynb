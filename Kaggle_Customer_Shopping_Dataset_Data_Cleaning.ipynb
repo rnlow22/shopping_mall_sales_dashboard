{
  "nbformat": 4,
  "nbformat_minor": 0,
  "metadata": {
    "colab": {
      "provenance": []
    },
    "kernelspec": {
      "name": "python3",
      "display_name": "Python 3"
    },
    "language_info": {
      "name": "python"
    }
  },
  "cells": [
    {
      "cell_type": "markdown",
      "source": [
        "# Import"
      ],
      "metadata": {
        "id": "VacwkWCy1AIB"
      }
    },
    {
      "cell_type": "code",
      "execution_count": null,
      "metadata": {
        "id": "UFCQjEv7nTcH",
        "colab": {
          "base_uri": "https://localhost:8080/"
        },
        "outputId": "339fc05b-d1ae-4dd5-e2b9-4024027c802c"
      },
      "outputs": [
        {
          "output_type": "stream",
          "name": "stdout",
          "text": [
            "Mounted at /content/drive\n"
          ]
        }
      ],
      "source": [
        "import numpy as np\n",
        "import pandas as pd\n",
        "from datetime import datetime, timedelta\n",
        "\n",
        "from google.colab import drive\n",
        "drive.mount('/content/drive')"
      ]
    },
    {
      "cell_type": "code",
      "source": [
        "data = pd.read_csv(\"customer_shopping_data.csv\")"
      ],
      "metadata": {
        "id": "I95GtO-bnnr6"
      },
      "execution_count": null,
      "outputs": []
    },
    {
      "cell_type": "markdown",
      "source": [
        "# Function"
      ],
      "metadata": {
        "id": "Rm7G-9y21EvR"
      }
    },
    {
      "cell_type": "code",
      "source": [
        "def first_day_of_week(date):\n",
        "  return date + timedelta(days = -date.weekday())"
      ],
      "metadata": {
        "id": "VLjvLb28jWbd"
      },
      "execution_count": null,
      "outputs": []
    },
    {
      "cell_type": "markdown",
      "source": [
        "# Parameter"
      ],
      "metadata": {
        "id": "Jvuvd-8u1IjM"
      }
    },
    {
      "cell_type": "code",
      "source": [
        "lat_long_dict = {'Kanyon':(41.0780999,29.0081189),\n",
        "                 'Forum Istanbul':(41.0475149,28.8943038),\n",
        "                 'Metrocity':(41.0762448,29.010894),\n",
        "                 'Metropol AVM':(40.9939789,29.1201009),\n",
        "                 'Istinye Park':(41.110398,29.0306569),\n",
        "                 'Mall of Istanbul':(41.0625312,28.8049507),\n",
        "                 'Emaar Square Mall':(41.0034395,29.068805),\n",
        "                 'Cevahir AVM':(41.0630838,28.9899516),\n",
        "                 'Viaport Outlet':(40.9381447,29.3209749),\n",
        "                 'Zorlu Center':(41.0669974,29.01298)}"
      ],
      "metadata": {
        "id": "l4fDvDUdoRbH"
      },
      "execution_count": null,
      "outputs": []
    },
    {
      "cell_type": "markdown",
      "source": [
        "# Introduction\n",
        "\n",
        "This exercise aims to clean the Kaggle Customer Shopping Dataset, preparing it for seamless use in Tableau for dashboard creation."
      ],
      "metadata": {
        "id": "gy3AiwUB1Soc"
      }
    },
    {
      "cell_type": "code",
      "source": [
        "data['location'] = data['shopping_mall'].map(lat_long_dict) #latitude, longitude\n",
        "data['latitude'] = data['location'].apply(lambda x : x[0])\n",
        "data['longitude'] = data['location'].apply(lambda x : x[1])\n",
        "data['invoice_date'] = pd.to_datetime(data['invoice_date'], dayfirst=True)"
      ],
      "metadata": {
        "id": "i_ft6JVqoRNB"
      },
      "execution_count": null,
      "outputs": []
    },
    {
      "cell_type": "markdown",
      "source": [
        "# Data Cleaning\n",
        "\n",
        "Incorporating week, month, and year dimensions to enable dashboard dropdowns for diverse data dimension analyses."
      ],
      "metadata": {
        "id": "MuIJmX-B2pDV"
      }
    },
    {
      "cell_type": "code",
      "source": [
        "data['reporting_date'] = data['invoice_date'].copy()\n",
        "data['first_day_of_week'] = data['reporting_date'].apply(lambda x:first_day_of_week(x))\n",
        "data['first_day_of_month'] = data['reporting_date'].to_numpy().astype('datetime64[M]')\n",
        "data['first_day_of_year'] = data['reporting_date'].to_numpy().astype('datetime64[Y]')\n",
        "\n",
        "data['weeknum'] = data['reporting_date'].dt.isocalendar().week\n",
        "data['weeknum'] = data['reporting_date'].dt.isocalendar().week\n",
        "data['Year-Week'] = data['reporting_date'].dt.isocalendar().year.astype(str)+\"-W\"+data['weeknum'].astype(str)\n",
        "data['Year-Month'] = data['reporting_date'].dt.strftime(\"%Y-%b\")\n",
        "data['Year'] = data['reporting_date'].dt.strftime(\"%Y\")"
      ],
      "metadata": {
        "id": "tRIejw0Vi2Fr"
      },
      "execution_count": null,
      "outputs": []
    },
    {
      "cell_type": "code",
      "source": [
        "data[['reporting_date','Year','Year-Month','Year-Week','weeknum']].drop_duplicates().sort_values(['reporting_date']).head(15)"
      ],
      "metadata": {
        "colab": {
          "base_uri": "https://localhost:8080/",
          "height": 520
        },
        "id": "6URPiIpli17p",
        "outputId": "3669847d-12be-4782-f22d-00871414a9f4"
      },
      "execution_count": null,
      "outputs": [
        {
          "output_type": "execute_result",
          "data": {
            "text/plain": [
              "     reporting_date  Year Year-Month Year-Week  weeknum\n",
              "4296     2021-01-01  2021   2021-Jan  2020-W53       53\n",
              "1261     2021-01-02  2021   2021-Jan  2020-W53       53\n",
              "220      2021-01-03  2021   2021-Jan  2020-W53       53\n",
              "551      2021-01-04  2021   2021-Jan   2021-W1        1\n",
              "1648     2021-01-05  2021   2021-Jan   2021-W1        1\n",
              "1535     2021-01-06  2021   2021-Jan   2021-W1        1\n",
              "681      2021-01-07  2021   2021-Jan   2021-W1        1\n",
              "639      2021-01-08  2021   2021-Jan   2021-W1        1\n",
              "2356     2021-01-09  2021   2021-Jan   2021-W1        1\n",
              "764      2021-01-10  2021   2021-Jan   2021-W1        1\n",
              "1769     2021-01-11  2021   2021-Jan   2021-W2        2\n",
              "680      2021-01-12  2021   2021-Jan   2021-W2        2\n",
              "7        2021-01-13  2021   2021-Jan   2021-W2        2\n",
              "2892     2021-01-14  2021   2021-Jan   2021-W2        2\n",
              "1596     2021-01-15  2021   2021-Jan   2021-W2        2"
            ],
            "text/html": [
              "\n",
              "  <div id=\"df-37c471b5-11c8-4217-bf25-10749ac670ac\" class=\"colab-df-container\">\n",
              "    <div>\n",
              "<style scoped>\n",
              "    .dataframe tbody tr th:only-of-type {\n",
              "        vertical-align: middle;\n",
              "    }\n",
              "\n",
              "    .dataframe tbody tr th {\n",
              "        vertical-align: top;\n",
              "    }\n",
              "\n",
              "    .dataframe thead th {\n",
              "        text-align: right;\n",
              "    }\n",
              "</style>\n",
              "<table border=\"1\" class=\"dataframe\">\n",
              "  <thead>\n",
              "    <tr style=\"text-align: right;\">\n",
              "      <th></th>\n",
              "      <th>reporting_date</th>\n",
              "      <th>Year</th>\n",
              "      <th>Year-Month</th>\n",
              "      <th>Year-Week</th>\n",
              "      <th>weeknum</th>\n",
              "    </tr>\n",
              "  </thead>\n",
              "  <tbody>\n",
              "    <tr>\n",
              "      <th>4296</th>\n",
              "      <td>2021-01-01</td>\n",
              "      <td>2021</td>\n",
              "      <td>2021-Jan</td>\n",
              "      <td>2020-W53</td>\n",
              "      <td>53</td>\n",
              "    </tr>\n",
              "    <tr>\n",
              "      <th>1261</th>\n",
              "      <td>2021-01-02</td>\n",
              "      <td>2021</td>\n",
              "      <td>2021-Jan</td>\n",
              "      <td>2020-W53</td>\n",
              "      <td>53</td>\n",
              "    </tr>\n",
              "    <tr>\n",
              "      <th>220</th>\n",
              "      <td>2021-01-03</td>\n",
              "      <td>2021</td>\n",
              "      <td>2021-Jan</td>\n",
              "      <td>2020-W53</td>\n",
              "      <td>53</td>\n",
              "    </tr>\n",
              "    <tr>\n",
              "      <th>551</th>\n",
              "      <td>2021-01-04</td>\n",
              "      <td>2021</td>\n",
              "      <td>2021-Jan</td>\n",
              "      <td>2021-W1</td>\n",
              "      <td>1</td>\n",
              "    </tr>\n",
              "    <tr>\n",
              "      <th>1648</th>\n",
              "      <td>2021-01-05</td>\n",
              "      <td>2021</td>\n",
              "      <td>2021-Jan</td>\n",
              "      <td>2021-W1</td>\n",
              "      <td>1</td>\n",
              "    </tr>\n",
              "    <tr>\n",
              "      <th>1535</th>\n",
              "      <td>2021-01-06</td>\n",
              "      <td>2021</td>\n",
              "      <td>2021-Jan</td>\n",
              "      <td>2021-W1</td>\n",
              "      <td>1</td>\n",
              "    </tr>\n",
              "    <tr>\n",
              "      <th>681</th>\n",
              "      <td>2021-01-07</td>\n",
              "      <td>2021</td>\n",
              "      <td>2021-Jan</td>\n",
              "      <td>2021-W1</td>\n",
              "      <td>1</td>\n",
              "    </tr>\n",
              "    <tr>\n",
              "      <th>639</th>\n",
              "      <td>2021-01-08</td>\n",
              "      <td>2021</td>\n",
              "      <td>2021-Jan</td>\n",
              "      <td>2021-W1</td>\n",
              "      <td>1</td>\n",
              "    </tr>\n",
              "    <tr>\n",
              "      <th>2356</th>\n",
              "      <td>2021-01-09</td>\n",
              "      <td>2021</td>\n",
              "      <td>2021-Jan</td>\n",
              "      <td>2021-W1</td>\n",
              "      <td>1</td>\n",
              "    </tr>\n",
              "    <tr>\n",
              "      <th>764</th>\n",
              "      <td>2021-01-10</td>\n",
              "      <td>2021</td>\n",
              "      <td>2021-Jan</td>\n",
              "      <td>2021-W1</td>\n",
              "      <td>1</td>\n",
              "    </tr>\n",
              "    <tr>\n",
              "      <th>1769</th>\n",
              "      <td>2021-01-11</td>\n",
              "      <td>2021</td>\n",
              "      <td>2021-Jan</td>\n",
              "      <td>2021-W2</td>\n",
              "      <td>2</td>\n",
              "    </tr>\n",
              "    <tr>\n",
              "      <th>680</th>\n",
              "      <td>2021-01-12</td>\n",
              "      <td>2021</td>\n",
              "      <td>2021-Jan</td>\n",
              "      <td>2021-W2</td>\n",
              "      <td>2</td>\n",
              "    </tr>\n",
              "    <tr>\n",
              "      <th>7</th>\n",
              "      <td>2021-01-13</td>\n",
              "      <td>2021</td>\n",
              "      <td>2021-Jan</td>\n",
              "      <td>2021-W2</td>\n",
              "      <td>2</td>\n",
              "    </tr>\n",
              "    <tr>\n",
              "      <th>2892</th>\n",
              "      <td>2021-01-14</td>\n",
              "      <td>2021</td>\n",
              "      <td>2021-Jan</td>\n",
              "      <td>2021-W2</td>\n",
              "      <td>2</td>\n",
              "    </tr>\n",
              "    <tr>\n",
              "      <th>1596</th>\n",
              "      <td>2021-01-15</td>\n",
              "      <td>2021</td>\n",
              "      <td>2021-Jan</td>\n",
              "      <td>2021-W2</td>\n",
              "      <td>2</td>\n",
              "    </tr>\n",
              "  </tbody>\n",
              "</table>\n",
              "</div>\n",
              "    <div class=\"colab-df-buttons\">\n",
              "\n",
              "  <div class=\"colab-df-container\">\n",
              "    <button class=\"colab-df-convert\" onclick=\"convertToInteractive('df-37c471b5-11c8-4217-bf25-10749ac670ac')\"\n",
              "            title=\"Convert this dataframe to an interactive table.\"\n",
              "            style=\"display:none;\">\n",
              "\n",
              "  <svg xmlns=\"http://www.w3.org/2000/svg\" height=\"24px\" viewBox=\"0 -960 960 960\">\n",
              "    <path d=\"M120-120v-720h720v720H120Zm60-500h600v-160H180v160Zm220 220h160v-160H400v160Zm0 220h160v-160H400v160ZM180-400h160v-160H180v160Zm440 0h160v-160H620v160ZM180-180h160v-160H180v160Zm440 0h160v-160H620v160Z\"/>\n",
              "  </svg>\n",
              "    </button>\n",
              "\n",
              "  <style>\n",
              "    .colab-df-container {\n",
              "      display:flex;\n",
              "      gap: 12px;\n",
              "    }\n",
              "\n",
              "    .colab-df-convert {\n",
              "      background-color: #E8F0FE;\n",
              "      border: none;\n",
              "      border-radius: 50%;\n",
              "      cursor: pointer;\n",
              "      display: none;\n",
              "      fill: #1967D2;\n",
              "      height: 32px;\n",
              "      padding: 0 0 0 0;\n",
              "      width: 32px;\n",
              "    }\n",
              "\n",
              "    .colab-df-convert:hover {\n",
              "      background-color: #E2EBFA;\n",
              "      box-shadow: 0px 1px 2px rgba(60, 64, 67, 0.3), 0px 1px 3px 1px rgba(60, 64, 67, 0.15);\n",
              "      fill: #174EA6;\n",
              "    }\n",
              "\n",
              "    .colab-df-buttons div {\n",
              "      margin-bottom: 4px;\n",
              "    }\n",
              "\n",
              "    [theme=dark] .colab-df-convert {\n",
              "      background-color: #3B4455;\n",
              "      fill: #D2E3FC;\n",
              "    }\n",
              "\n",
              "    [theme=dark] .colab-df-convert:hover {\n",
              "      background-color: #434B5C;\n",
              "      box-shadow: 0px 1px 3px 1px rgba(0, 0, 0, 0.15);\n",
              "      filter: drop-shadow(0px 1px 2px rgba(0, 0, 0, 0.3));\n",
              "      fill: #FFFFFF;\n",
              "    }\n",
              "  </style>\n",
              "\n",
              "    <script>\n",
              "      const buttonEl =\n",
              "        document.querySelector('#df-37c471b5-11c8-4217-bf25-10749ac670ac button.colab-df-convert');\n",
              "      buttonEl.style.display =\n",
              "        google.colab.kernel.accessAllowed ? 'block' : 'none';\n",
              "\n",
              "      async function convertToInteractive(key) {\n",
              "        const element = document.querySelector('#df-37c471b5-11c8-4217-bf25-10749ac670ac');\n",
              "        const dataTable =\n",
              "          await google.colab.kernel.invokeFunction('convertToInteractive',\n",
              "                                                    [key], {});\n",
              "        if (!dataTable) return;\n",
              "\n",
              "        const docLinkHtml = 'Like what you see? Visit the ' +\n",
              "          '<a target=\"_blank\" href=https://colab.research.google.com/notebooks/data_table.ipynb>data table notebook</a>'\n",
              "          + ' to learn more about interactive tables.';\n",
              "        element.innerHTML = '';\n",
              "        dataTable['output_type'] = 'display_data';\n",
              "        await google.colab.output.renderOutput(dataTable, element);\n",
              "        const docLink = document.createElement('div');\n",
              "        docLink.innerHTML = docLinkHtml;\n",
              "        element.appendChild(docLink);\n",
              "      }\n",
              "    </script>\n",
              "  </div>\n",
              "\n",
              "\n",
              "<div id=\"df-b210a029-3123-4d97-ac44-99c1a7bb535e\">\n",
              "  <button class=\"colab-df-quickchart\" onclick=\"quickchart('df-b210a029-3123-4d97-ac44-99c1a7bb535e')\"\n",
              "            title=\"Suggest charts\"\n",
              "            style=\"display:none;\">\n",
              "\n",
              "<svg xmlns=\"http://www.w3.org/2000/svg\" height=\"24px\"viewBox=\"0 0 24 24\"\n",
              "     width=\"24px\">\n",
              "    <g>\n",
              "        <path d=\"M19 3H5c-1.1 0-2 .9-2 2v14c0 1.1.9 2 2 2h14c1.1 0 2-.9 2-2V5c0-1.1-.9-2-2-2zM9 17H7v-7h2v7zm4 0h-2V7h2v10zm4 0h-2v-4h2v4z\"/>\n",
              "    </g>\n",
              "</svg>\n",
              "  </button>\n",
              "\n",
              "<style>\n",
              "  .colab-df-quickchart {\n",
              "      --bg-color: #E8F0FE;\n",
              "      --fill-color: #1967D2;\n",
              "      --hover-bg-color: #E2EBFA;\n",
              "      --hover-fill-color: #174EA6;\n",
              "      --disabled-fill-color: #AAA;\n",
              "      --disabled-bg-color: #DDD;\n",
              "  }\n",
              "\n",
              "  [theme=dark] .colab-df-quickchart {\n",
              "      --bg-color: #3B4455;\n",
              "      --fill-color: #D2E3FC;\n",
              "      --hover-bg-color: #434B5C;\n",
              "      --hover-fill-color: #FFFFFF;\n",
              "      --disabled-bg-color: #3B4455;\n",
              "      --disabled-fill-color: #666;\n",
              "  }\n",
              "\n",
              "  .colab-df-quickchart {\n",
              "    background-color: var(--bg-color);\n",
              "    border: none;\n",
              "    border-radius: 50%;\n",
              "    cursor: pointer;\n",
              "    display: none;\n",
              "    fill: var(--fill-color);\n",
              "    height: 32px;\n",
              "    padding: 0;\n",
              "    width: 32px;\n",
              "  }\n",
              "\n",
              "  .colab-df-quickchart:hover {\n",
              "    background-color: var(--hover-bg-color);\n",
              "    box-shadow: 0 1px 2px rgba(60, 64, 67, 0.3), 0 1px 3px 1px rgba(60, 64, 67, 0.15);\n",
              "    fill: var(--button-hover-fill-color);\n",
              "  }\n",
              "\n",
              "  .colab-df-quickchart-complete:disabled,\n",
              "  .colab-df-quickchart-complete:disabled:hover {\n",
              "    background-color: var(--disabled-bg-color);\n",
              "    fill: var(--disabled-fill-color);\n",
              "    box-shadow: none;\n",
              "  }\n",
              "\n",
              "  .colab-df-spinner {\n",
              "    border: 2px solid var(--fill-color);\n",
              "    border-color: transparent;\n",
              "    border-bottom-color: var(--fill-color);\n",
              "    animation:\n",
              "      spin 1s steps(1) infinite;\n",
              "  }\n",
              "\n",
              "  @keyframes spin {\n",
              "    0% {\n",
              "      border-color: transparent;\n",
              "      border-bottom-color: var(--fill-color);\n",
              "      border-left-color: var(--fill-color);\n",
              "    }\n",
              "    20% {\n",
              "      border-color: transparent;\n",
              "      border-left-color: var(--fill-color);\n",
              "      border-top-color: var(--fill-color);\n",
              "    }\n",
              "    30% {\n",
              "      border-color: transparent;\n",
              "      border-left-color: var(--fill-color);\n",
              "      border-top-color: var(--fill-color);\n",
              "      border-right-color: var(--fill-color);\n",
              "    }\n",
              "    40% {\n",
              "      border-color: transparent;\n",
              "      border-right-color: var(--fill-color);\n",
              "      border-top-color: var(--fill-color);\n",
              "    }\n",
              "    60% {\n",
              "      border-color: transparent;\n",
              "      border-right-color: var(--fill-color);\n",
              "    }\n",
              "    80% {\n",
              "      border-color: transparent;\n",
              "      border-right-color: var(--fill-color);\n",
              "      border-bottom-color: var(--fill-color);\n",
              "    }\n",
              "    90% {\n",
              "      border-color: transparent;\n",
              "      border-bottom-color: var(--fill-color);\n",
              "    }\n",
              "  }\n",
              "</style>\n",
              "\n",
              "  <script>\n",
              "    async function quickchart(key) {\n",
              "      const quickchartButtonEl =\n",
              "        document.querySelector('#' + key + ' button');\n",
              "      quickchartButtonEl.disabled = true;  // To prevent multiple clicks.\n",
              "      quickchartButtonEl.classList.add('colab-df-spinner');\n",
              "      try {\n",
              "        const charts = await google.colab.kernel.invokeFunction(\n",
              "            'suggestCharts', [key], {});\n",
              "      } catch (error) {\n",
              "        console.error('Error during call to suggestCharts:', error);\n",
              "      }\n",
              "      quickchartButtonEl.classList.remove('colab-df-spinner');\n",
              "      quickchartButtonEl.classList.add('colab-df-quickchart-complete');\n",
              "    }\n",
              "    (() => {\n",
              "      let quickchartButtonEl =\n",
              "        document.querySelector('#df-b210a029-3123-4d97-ac44-99c1a7bb535e button');\n",
              "      quickchartButtonEl.style.display =\n",
              "        google.colab.kernel.accessAllowed ? 'block' : 'none';\n",
              "    })();\n",
              "  </script>\n",
              "</div>\n",
              "\n",
              "    </div>\n",
              "  </div>\n"
            ],
            "application/vnd.google.colaboratory.intrinsic+json": {
              "type": "dataframe",
              "repr_error": "0"
            }
          },
          "metadata": {},
          "execution_count": 8
        }
      ]
    },
    {
      "cell_type": "markdown",
      "source": [
        "# Data Exploration"
      ],
      "metadata": {
        "id": "Um-DqoRA3T60"
      }
    },
    {
      "cell_type": "code",
      "source": [
        "print(data['invoice_date'].min(),data['invoice_date'].max())"
      ],
      "metadata": {
        "colab": {
          "base_uri": "https://localhost:8080/"
        },
        "id": "IEoRjZZUsVqX",
        "outputId": "0a00e3f4-ccb5-43f2-cb85-07492d5945cd"
      },
      "execution_count": null,
      "outputs": [
        {
          "output_type": "stream",
          "name": "stdout",
          "text": [
            "2021-01-01 00:00:00 2023-03-08 00:00:00\n"
          ]
        }
      ]
    },
    {
      "cell_type": "code",
      "source": [
        "data.groupby(['shopping_mall'])['price'].sum()"
      ],
      "metadata": {
        "colab": {
          "base_uri": "https://localhost:8080/"
        },
        "id": "_E6QZGonsgfq",
        "outputId": "71e5dafc-d9bb-403b-b1f9-7e49fd4b104b"
      },
      "execution_count": null,
      "outputs": [
        {
          "output_type": "execute_result",
          "data": {
            "text/plain": [
              "shopping_mall\n",
              "Cevahir AVM           3433671.84\n",
              "Emaar Square Mall     3390408.31\n",
              "Forum Istanbul        3336073.82\n",
              "Istinye Park          6717077.54\n",
              "Kanyon               13710755.24\n",
              "Mall of Istanbul     13851737.62\n",
              "Metrocity            10249980.07\n",
              "Metropol AVM          6937992.99\n",
              "Viaport Outlet        3414019.46\n",
              "Zorlu Center          3509649.02\n",
              "Name: price, dtype: float64"
            ]
          },
          "metadata": {},
          "execution_count": 10
        }
      ]
    },
    {
      "cell_type": "code",
      "source": [
        "data.groupby(['shopping_mall'])['invoice_no'].count()"
      ],
      "metadata": {
        "colab": {
          "base_uri": "https://localhost:8080/"
        },
        "id": "62QI8VXHssly",
        "outputId": "2cd79780-5a4e-49c4-f30c-598a421b27f5"
      },
      "execution_count": null,
      "outputs": [
        {
          "output_type": "execute_result",
          "data": {
            "text/plain": [
              "shopping_mall\n",
              "Cevahir AVM           4991\n",
              "Emaar Square Mall     4811\n",
              "Forum Istanbul        4947\n",
              "Istinye Park          9781\n",
              "Kanyon               19823\n",
              "Mall of Istanbul     19943\n",
              "Metrocity            15011\n",
              "Metropol AVM         10161\n",
              "Viaport Outlet        4914\n",
              "Zorlu Center          5075\n",
              "Name: invoice_no, dtype: int64"
            ]
          },
          "metadata": {},
          "execution_count": 11
        }
      ]
    },
    {
      "cell_type": "code",
      "source": [
        "data.groupby(['shopping_mall'])['customer_id'].nunique()"
      ],
      "metadata": {
        "colab": {
          "base_uri": "https://localhost:8080/"
        },
        "id": "xkBuRjKftCMm",
        "outputId": "0fda1e76-a412-42af-de95-2928758f141b"
      },
      "execution_count": null,
      "outputs": [
        {
          "output_type": "execute_result",
          "data": {
            "text/plain": [
              "shopping_mall\n",
              "Cevahir AVM           4991\n",
              "Emaar Square Mall     4811\n",
              "Forum Istanbul        4947\n",
              "Istinye Park          9781\n",
              "Kanyon               19823\n",
              "Mall of Istanbul     19943\n",
              "Metrocity            15011\n",
              "Metropol AVM         10161\n",
              "Viaport Outlet        4914\n",
              "Zorlu Center          5075\n",
              "Name: customer_id, dtype: int64"
            ]
          },
          "metadata": {},
          "execution_count": 12
        }
      ]
    },
    {
      "cell_type": "code",
      "source": [
        "data[data.duplicated(['invoice_no'],keep=False)]"
      ],
      "metadata": {
        "colab": {
          "base_uri": "https://localhost:8080/",
          "height": 116
        },
        "id": "Tg3L7nkyoQM0",
        "outputId": "13d3d5c3-016b-4b35-c60a-1bd338003903"
      },
      "execution_count": null,
      "outputs": [
        {
          "output_type": "execute_result",
          "data": {
            "text/plain": [
              "Empty DataFrame\n",
              "Columns: [invoice_no, customer_id, gender, age, category, quantity, price, payment_method, invoice_date, shopping_mall, location, latitude, longitude, reporting_date, first_day_of_week, first_day_of_month, first_day_of_year, weeknum, Year-Week, Year-Month, Year]\n",
              "Index: []\n",
              "\n",
              "[0 rows x 21 columns]"
            ],
            "text/html": [
              "\n",
              "  <div id=\"df-bd2af094-c2c0-43e6-9cd6-5db8d44610ae\" class=\"colab-df-container\">\n",
              "    <div>\n",
              "<style scoped>\n",
              "    .dataframe tbody tr th:only-of-type {\n",
              "        vertical-align: middle;\n",
              "    }\n",
              "\n",
              "    .dataframe tbody tr th {\n",
              "        vertical-align: top;\n",
              "    }\n",
              "\n",
              "    .dataframe thead th {\n",
              "        text-align: right;\n",
              "    }\n",
              "</style>\n",
              "<table border=\"1\" class=\"dataframe\">\n",
              "  <thead>\n",
              "    <tr style=\"text-align: right;\">\n",
              "      <th></th>\n",
              "      <th>invoice_no</th>\n",
              "      <th>customer_id</th>\n",
              "      <th>gender</th>\n",
              "      <th>age</th>\n",
              "      <th>category</th>\n",
              "      <th>quantity</th>\n",
              "      <th>price</th>\n",
              "      <th>payment_method</th>\n",
              "      <th>invoice_date</th>\n",
              "      <th>shopping_mall</th>\n",
              "      <th>...</th>\n",
              "      <th>latitude</th>\n",
              "      <th>longitude</th>\n",
              "      <th>reporting_date</th>\n",
              "      <th>first_day_of_week</th>\n",
              "      <th>first_day_of_month</th>\n",
              "      <th>first_day_of_year</th>\n",
              "      <th>weeknum</th>\n",
              "      <th>Year-Week</th>\n",
              "      <th>Year-Month</th>\n",
              "      <th>Year</th>\n",
              "    </tr>\n",
              "  </thead>\n",
              "  <tbody>\n",
              "  </tbody>\n",
              "</table>\n",
              "<p>0 rows × 21 columns</p>\n",
              "</div>\n",
              "    <div class=\"colab-df-buttons\">\n",
              "\n",
              "  <div class=\"colab-df-container\">\n",
              "    <button class=\"colab-df-convert\" onclick=\"convertToInteractive('df-bd2af094-c2c0-43e6-9cd6-5db8d44610ae')\"\n",
              "            title=\"Convert this dataframe to an interactive table.\"\n",
              "            style=\"display:none;\">\n",
              "\n",
              "  <svg xmlns=\"http://www.w3.org/2000/svg\" height=\"24px\" viewBox=\"0 -960 960 960\">\n",
              "    <path d=\"M120-120v-720h720v720H120Zm60-500h600v-160H180v160Zm220 220h160v-160H400v160Zm0 220h160v-160H400v160ZM180-400h160v-160H180v160Zm440 0h160v-160H620v160ZM180-180h160v-160H180v160Zm440 0h160v-160H620v160Z\"/>\n",
              "  </svg>\n",
              "    </button>\n",
              "\n",
              "  <style>\n",
              "    .colab-df-container {\n",
              "      display:flex;\n",
              "      gap: 12px;\n",
              "    }\n",
              "\n",
              "    .colab-df-convert {\n",
              "      background-color: #E8F0FE;\n",
              "      border: none;\n",
              "      border-radius: 50%;\n",
              "      cursor: pointer;\n",
              "      display: none;\n",
              "      fill: #1967D2;\n",
              "      height: 32px;\n",
              "      padding: 0 0 0 0;\n",
              "      width: 32px;\n",
              "    }\n",
              "\n",
              "    .colab-df-convert:hover {\n",
              "      background-color: #E2EBFA;\n",
              "      box-shadow: 0px 1px 2px rgba(60, 64, 67, 0.3), 0px 1px 3px 1px rgba(60, 64, 67, 0.15);\n",
              "      fill: #174EA6;\n",
              "    }\n",
              "\n",
              "    .colab-df-buttons div {\n",
              "      margin-bottom: 4px;\n",
              "    }\n",
              "\n",
              "    [theme=dark] .colab-df-convert {\n",
              "      background-color: #3B4455;\n",
              "      fill: #D2E3FC;\n",
              "    }\n",
              "\n",
              "    [theme=dark] .colab-df-convert:hover {\n",
              "      background-color: #434B5C;\n",
              "      box-shadow: 0px 1px 3px 1px rgba(0, 0, 0, 0.15);\n",
              "      filter: drop-shadow(0px 1px 2px rgba(0, 0, 0, 0.3));\n",
              "      fill: #FFFFFF;\n",
              "    }\n",
              "  </style>\n",
              "\n",
              "    <script>\n",
              "      const buttonEl =\n",
              "        document.querySelector('#df-bd2af094-c2c0-43e6-9cd6-5db8d44610ae button.colab-df-convert');\n",
              "      buttonEl.style.display =\n",
              "        google.colab.kernel.accessAllowed ? 'block' : 'none';\n",
              "\n",
              "      async function convertToInteractive(key) {\n",
              "        const element = document.querySelector('#df-bd2af094-c2c0-43e6-9cd6-5db8d44610ae');\n",
              "        const dataTable =\n",
              "          await google.colab.kernel.invokeFunction('convertToInteractive',\n",
              "                                                    [key], {});\n",
              "        if (!dataTable) return;\n",
              "\n",
              "        const docLinkHtml = 'Like what you see? Visit the ' +\n",
              "          '<a target=\"_blank\" href=https://colab.research.google.com/notebooks/data_table.ipynb>data table notebook</a>'\n",
              "          + ' to learn more about interactive tables.';\n",
              "        element.innerHTML = '';\n",
              "        dataTable['output_type'] = 'display_data';\n",
              "        await google.colab.output.renderOutput(dataTable, element);\n",
              "        const docLink = document.createElement('div');\n",
              "        docLink.innerHTML = docLinkHtml;\n",
              "        element.appendChild(docLink);\n",
              "      }\n",
              "    </script>\n",
              "  </div>\n",
              "\n",
              "\n",
              "    </div>\n",
              "  </div>\n"
            ],
            "application/vnd.google.colaboratory.intrinsic+json": {
              "type": "dataframe"
            }
          },
          "metadata": {},
          "execution_count": 13
        }
      ]
    },
    {
      "cell_type": "code",
      "source": [
        "data['category'].unique()"
      ],
      "metadata": {
        "id": "rzMOkR9fsJlb",
        "colab": {
          "base_uri": "https://localhost:8080/"
        },
        "outputId": "92fefbfd-26a5-4907-b8a6-2d819f7c96f4"
      },
      "execution_count": null,
      "outputs": [
        {
          "output_type": "execute_result",
          "data": {
            "text/plain": [
              "array(['Clothing', 'Shoes', 'Books', 'Cosmetics', 'Food & Beverage',\n",
              "       'Toys', 'Technology', 'Souvenir'], dtype=object)"
            ]
          },
          "metadata": {},
          "execution_count": 14
        }
      ]
    },
    {
      "cell_type": "code",
      "source": [
        "data['payment_method'].unique()"
      ],
      "metadata": {
        "colab": {
          "base_uri": "https://localhost:8080/"
        },
        "id": "uPm813YGOmXs",
        "outputId": "9daed3e8-2e2b-4b59-b0c4-2751b730bb7e"
      },
      "execution_count": null,
      "outputs": [
        {
          "output_type": "execute_result",
          "data": {
            "text/plain": [
              "array(['Credit Card', 'Debit Card', 'Cash'], dtype=object)"
            ]
          },
          "metadata": {},
          "execution_count": 15
        }
      ]
    },
    {
      "cell_type": "code",
      "source": [
        "data.columns"
      ],
      "metadata": {
        "id": "Trr5ljHgTWOj",
        "colab": {
          "base_uri": "https://localhost:8080/"
        },
        "outputId": "75120ceb-b6e0-4851-e618-20b5c3422e98"
      },
      "execution_count": null,
      "outputs": [
        {
          "output_type": "execute_result",
          "data": {
            "text/plain": [
              "Index(['invoice_no', 'customer_id', 'gender', 'age', 'category', 'quantity',\n",
              "       'price', 'payment_method', 'invoice_date', 'shopping_mall', 'location',\n",
              "       'latitude', 'longitude', 'reporting_date', 'first_day_of_week',\n",
              "       'first_day_of_month', 'first_day_of_year', 'weeknum', 'Year-Week',\n",
              "       'Year-Month', 'Year'],\n",
              "      dtype='object')"
            ]
          },
          "metadata": {},
          "execution_count": 16
        }
      ]
    },
    {
      "cell_type": "markdown",
      "source": [
        "# Export"
      ],
      "metadata": {
        "id": "2bP_RL7f3Y42"
      }
    },
    {
      "cell_type": "code",
      "source": [
        "col = ['reporting_date','Year','Year-Month','Year-Week','weeknum','first_day_of_year','first_day_of_month','first_day_of_week',\n",
        "       'invoice_no', 'customer_id', 'gender', 'age', 'category', 'quantity',\n",
        "       'price', 'payment_method', 'invoice_date', 'shopping_mall', 'location','latitude', 'longitude']\n",
        "\n",
        "data[col].to_csv(\"customer_shopping_data_processed.csv\",index=False)"
      ],
      "metadata": {
        "id": "nI7rj-TREfBq"
      },
      "execution_count": null,
      "outputs": []
    }
  ]
}